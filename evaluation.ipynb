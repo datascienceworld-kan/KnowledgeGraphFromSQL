{
 "cells": [
  {
   "cell_type": "markdown",
   "id": "9595e189",
   "metadata": {},
   "source": [
    "# Evaluation"
   ]
  },
  {
   "cell_type": "code",
   "execution_count": null,
   "id": "bdfadfa3",
   "metadata": {},
   "outputs": [],
   "source": [
    "import json\n",
    "\n",
    "def _extract_result(\n",
    "        all_data_path=\"./database/structured_database/bfsi_ground_truth_easy.json\",\n",
    "        cypher_data_path=\"./database/structured_database/output/bfsi_cypher_gpt4o_mini_easy.json\",\n",
    "        sql_data_path=\"./database/structured_database/output/bfsi_sql_gpt4o_easy.json\"\n",
    "):\n",
    "    with open(all_data_path, \"r\") as f:\n",
    "        all_data = json.load(f)\n",
    "\n",
    "    with open(cypher_data_path, \"r\") as f:\n",
    "        cypher_data = json.load(f)\n",
    "\n",
    "    with open(sql_data_path, \"r\") as f:\n",
    "        sql_data = json.load(f)\n",
    "\n",
    "    cypher_data_adj = dict([(item['id'], item) for item in cypher_data])\n",
    "    sql_data_adj = dict([(item['id'], item) for item in sql_data])\n",
    "\n",
    "    all_data_adj = []\n",
    "    for item in all_data:\n",
    "        idx = item['id']\n",
    "        ground_truth = item['answer']\n",
    "        sql_answer = sql_data_adj[idx][\"sql_answer\"] if idx in sql_data_adj else \"\"\n",
    "        cypher_answer = cypher_data_adj[idx][\"cypher_answer\"] if idx in cypher_data_adj else \"\"\n",
    "        item = {\n",
    "            \"id\": idx,\n",
    "            \"ground_truth\": ground_truth,\n",
    "            \"sql_answer\": sql_answer,\n",
    "            \"cypher_answer\": cypher_answer\n",
    "        }\n",
    "        all_data_adj.append(item)\n",
    "    return all_data_adj"
   ]
  },
  {
   "cell_type": "code",
   "execution_count": 2,
   "id": "22473957",
   "metadata": {},
   "outputs": [],
   "source": [
    "import re\n",
    "def extract_figure(text):\n",
    "    if 'None' in text:\n",
    "        return 0.0\n",
    "    else:\n",
    "        numbers = re.findall(r\"\\d+\", text)\n",
    "        numbers = list(map(float, numbers))\n",
    "        if len(numbers)>=1:\n",
    "            return numbers[0]\n",
    "        if len(numbers)==0:\n",
    "            return 0.0\n",
    "        else:\n",
    "            return numbers"
   ]
  },
  {
   "cell_type": "code",
   "execution_count": 3,
   "id": "77798949",
   "metadata": {},
   "outputs": [],
   "source": [
    "def compare_fn(item):\n",
    "    result = {}\n",
    "    ground_truth = item[\"ground_truth\"]\n",
    "    cypher_answer = item[\"cypher_answer\"]\n",
    "    sql_answer = item[\"sql_answer\"]\n",
    "    num_cypher_answer = extract_figure(cypher_answer)\n",
    "    num_sql_answer = extract_figure(sql_answer)\n",
    "    result[\"id\"] = item[\"id\"]\n",
    "    result[\"is_true_sql_answer\"] =  1 if num_sql_answer == ground_truth else 0\n",
    "    result[\"is_true_cypher_answer\"] =  1 if num_cypher_answer == ground_truth else 0\n",
    "    result[\"ground_truth\"] = item[\"ground_truth\"]\n",
    "    result['cypher_answer'] = cypher_answer\n",
    "    result['sql_answer'] = sql_answer\n",
    "    result['num_cypher_answer'] = num_cypher_answer\n",
    "    result['num_sql_answer'] = num_sql_answer\n",
    "    return result"
   ]
  },
  {
   "cell_type": "code",
   "execution_count": 4,
   "id": "7633fca1",
   "metadata": {},
   "outputs": [],
   "source": [
    "def measure_accuracy(\n",
    "    ground_truth=\"./database/structured_database/bfsi_ground_truth_easy.json\",\n",
    "    cypher_data_path=\"./database/structured_database/output/bfsi_cypher_gpt4o_mini_easy.json\",\n",
    "    sql_data_path=\"./database/structured_database/output/bfsi_sql_gpt4o_easy.json\"\n",
    "):\n",
    "    result_data = _extract_result(\n",
    "        all_data_path=ground_truth,\n",
    "        cypher_data_path=cypher_data_path,\n",
    "        sql_data_path=sql_data_path\n",
    "    )\n",
    "    \n",
    "    n_true_cypher = 0\n",
    "    n_true_sql = 0\n",
    "\n",
    "    for (i, item) in enumerate(result_data):\n",
    "        compare = compare_fn(item=item)\n",
    "        \n",
    "        if compare['is_true_cypher_answer']==1:\n",
    "            n_true_cypher+=1\n",
    "        if compare['is_true_sql_answer']==1:\n",
    "            n_true_sql+=1\n",
    "\n",
    "    print(\"Accuracy cypher:\\n\", n_true_cypher/len(result_data))\n",
    "    print(\"Accuracy sql:\\n\", n_true_sql/len(result_data))"
   ]
  },
  {
   "cell_type": "code",
   "execution_count": 5,
   "id": "68cbb254",
   "metadata": {},
   "outputs": [
    {
     "name": "stdout",
     "output_type": "stream",
     "text": [
      "Accuracy cypher:\n",
      " 0.904296875\n",
      "Accuracy sql:\n",
      " 0.7265625\n"
     ]
    }
   ],
   "source": [
    "measure_accuracy(\n",
    "    ground_truth=\"./database/structured_database/bfsi_ground_truth_easy.json\",\n",
    "    cypher_data_path=\"./database/structured_database/output/bfsi_cypher_gpt4o_mini_easy.json\",\n",
    "    sql_data_path=\"./database/structured_database/output/bfsi_sql_gpt4o_easy.json\"\n",
    ")"
   ]
  },
  {
   "cell_type": "code",
   "execution_count": 6,
   "id": "40890821",
   "metadata": {},
   "outputs": [
    {
     "name": "stdout",
     "output_type": "stream",
     "text": [
      "Accuracy cypher:\n",
      " 0.8198198198198198\n",
      "Accuracy sql:\n",
      " 0.7777777777777778\n"
     ]
    }
   ],
   "source": [
    "measure_accuracy(\n",
    "    ground_truth=\"./database/structured_database/bfsi_ground_truth_medium.json\",\n",
    "    cypher_data_path=\"./database/structured_database/output/bfsi_cypher_gpt4o_mini_medium.json\",\n",
    "    sql_data_path=\"./database/structured_database/output/bfsi_sql_gpt4o_medium.json\"\n",
    ")"
   ]
  },
  {
   "cell_type": "code",
   "execution_count": 7,
   "id": "d6a42495",
   "metadata": {},
   "outputs": [
    {
     "name": "stdout",
     "output_type": "stream",
     "text": [
      "Accuracy cypher:\n",
      " 0.8008474576271186\n",
      "Accuracy sql:\n",
      " 0.690677966101695\n"
     ]
    }
   ],
   "source": [
    "measure_accuracy(\n",
    "    ground_truth=\"./database/structured_database/bfsi_ground_truth_hard.json\",\n",
    "    cypher_data_path=\"./database/structured_database/output/bfsi_cypher_gpt4o_mini_hard.json\",\n",
    "    sql_data_path=\"./database/structured_database/output/bfsi_sql_gpt4o_hard.json\"\n",
    ")"
   ]
  },
  {
   "cell_type": "code",
   "execution_count": null,
   "id": "d8133a0a",
   "metadata": {},
   "outputs": [],
   "source": []
  },
  {
   "cell_type": "code",
   "execution_count": null,
   "id": "f817c96b",
   "metadata": {},
   "outputs": [],
   "source": []
  },
  {
   "cell_type": "code",
   "execution_count": null,
   "id": "f5db9a2e",
   "metadata": {},
   "outputs": [],
   "source": []
  }
 ],
 "metadata": {
  "kernelspec": {
   "display_name": "base",
   "language": "python",
   "name": "python3"
  },
  "language_info": {
   "codemirror_mode": {
    "name": "ipython",
    "version": 3
   },
   "file_extension": ".py",
   "mimetype": "text/x-python",
   "name": "python",
   "nbconvert_exporter": "python",
   "pygments_lexer": "ipython3",
   "version": "3.10.10"
  }
 },
 "nbformat": 4,
 "nbformat_minor": 5
}
