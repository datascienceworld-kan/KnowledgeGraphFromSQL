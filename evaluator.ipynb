{
 "cells": [
  {
   "cell_type": "code",
   "execution_count": 19,
   "id": "3e6405b0",
   "metadata": {},
   "outputs": [],
   "source": [
    "def sql_time(result_path = 'database/structured_database/output/bfsi_sql_gpt4o_easy.json'):\n",
    "    with open(result_path, 'r') as f:\n",
    "        bfsi_easy_data = json.load(f)\n",
    "        \n",
    "    sql_times = [] \n",
    "    llm_times = []\n",
    "    for item in bfsi_easy_data:\n",
    "        llm_times.append(item['sql_time_llm_gen'])\n",
    "        sql_times.append(item['sql_time_exec'])\n",
    "    return sql_times, llm_times"
   ]
  },
  {
   "cell_type": "code",
   "execution_count": 23,
   "id": "33d74ed0",
   "metadata": {},
   "outputs": [
    {
     "data": {
      "text/plain": [
       "(0.0021643271869198517, 5.627542139861547)"
      ]
     },
     "execution_count": 23,
     "metadata": {},
     "output_type": "execute_result"
    }
   ],
   "source": [
    "sql_times_easy, llm_times_easy = sql_time(result_path = 'database/structured_database/output/bfsi_sql_gpt4o_easy.json')\n",
    "np.mean(sql_times_easy), np.mean(llm_times_easy)"
   ]
  },
  {
   "cell_type": "code",
   "execution_count": 21,
   "id": "7561e154",
   "metadata": {},
   "outputs": [
    {
     "data": {
      "text/plain": [
       "(0.0032399005822183807, 6.908831273516165)"
      ]
     },
     "execution_count": 21,
     "metadata": {},
     "output_type": "execute_result"
    }
   ],
   "source": [
    "sql_times_medium, llm_times_medium = sql_time(result_path = 'database/structured_database/output/bfsi_sql_gpt4o_medium.json')\n",
    "np.mean(sql_times_medium), np.mean(llm_times_medium)"
   ]
  },
  {
   "cell_type": "code",
   "execution_count": 22,
   "id": "0ae849d2",
   "metadata": {},
   "outputs": [
    {
     "data": {
      "text/plain": [
       "(0.003985733251608311, 7.291468743487301)"
      ]
     },
     "execution_count": 22,
     "metadata": {},
     "output_type": "execute_result"
    }
   ],
   "source": [
    "sql_times_hard, llm_times_hard = sql_time(result_path = 'database/structured_database/output/bfsi_sql_gpt4o_hard.json')\n",
    "np.mean(sql_times_hard), np.mean(llm_times_hard)"
   ]
  },
  {
   "cell_type": "code",
   "execution_count": 26,
   "id": "d1df0f98",
   "metadata": {},
   "outputs": [],
   "source": [
    "def cypher_time(result_path = 'database/structured_database/output/bfsi_cypher_gpt4o_mini_easy.json'):\n",
    "    with open(result_path, 'r') as f:\n",
    "        bfsi_easy_data = json.load(f)\n",
    "        \n",
    "    sql_times = [] \n",
    "    llm_times = []\n",
    "    for item in bfsi_easy_data:\n",
    "        llm_times.append(item['cypher_time_llm_gen'])\n",
    "        sql_times.append(item['cypher_time_exec'])\n",
    "    return sql_times, llm_times"
   ]
  },
  {
   "cell_type": "code",
   "execution_count": 28,
   "id": "907aa998",
   "metadata": {},
   "outputs": [
    {
     "data": {
      "text/plain": [
       "(0.0426492846347733, 1.6905091440769235)"
      ]
     },
     "execution_count": 28,
     "metadata": {},
     "output_type": "execute_result"
    }
   ],
   "source": [
    "cypher_times_easy, cypher_llm_times_easy = cypher_time(result_path = 'database/structured_database/output/bfsi_cypher_gpt4o_mini_easy.json')\n",
    "np.mean(cypher_times_easy), np.mean(cypher_llm_times_easy)"
   ]
  },
  {
   "cell_type": "code",
   "execution_count": 29,
   "id": "8173a784",
   "metadata": {},
   "outputs": [
    {
     "data": {
      "text/plain": [
       "(0.03817137051384914, 1.900684244470747)"
      ]
     },
     "execution_count": 29,
     "metadata": {},
     "output_type": "execute_result"
    }
   ],
   "source": [
    "cypher_times_medium, cypher_llm_times_medium = cypher_time(result_path = 'database/structured_database/output/bfsi_cypher_gpt4o_mini_medium.json')\n",
    "np.mean(cypher_times_medium), np.mean(cypher_llm_times_medium)"
   ]
  },
  {
   "cell_type": "code",
   "execution_count": 30,
   "id": "2345c25f",
   "metadata": {},
   "outputs": [
    {
     "data": {
      "text/plain": [
       "(0.04509191428124795, 2.595806982825933)"
      ]
     },
     "execution_count": 30,
     "metadata": {},
     "output_type": "execute_result"
    }
   ],
   "source": [
    "cypher_times_hard, cypher_llm_times_hard = cypher_time(result_path = 'database/structured_database/output/bfsi_cypher_gpt4o_mini_hard.json')\n",
    "np.mean(cypher_times_hard), np.mean(cypher_llm_times_hard)"
   ]
  },
  {
   "cell_type": "code",
   "execution_count": null,
   "id": "cd5fb6ef",
   "metadata": {},
   "outputs": [],
   "source": []
  }
 ],
 "metadata": {
  "kernelspec": {
   "display_name": "base",
   "language": "python",
   "name": "python3"
  },
  "language_info": {
   "codemirror_mode": {
    "name": "ipython",
    "version": 3
   },
   "file_extension": ".py",
   "mimetype": "text/x-python",
   "name": "python",
   "nbconvert_exporter": "python",
   "pygments_lexer": "ipython3",
   "version": "3.10.10"
  }
 },
 "nbformat": 4,
 "nbformat_minor": 5
}
